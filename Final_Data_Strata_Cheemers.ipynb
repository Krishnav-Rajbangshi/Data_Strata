{
 "cells": [
  {
   "cell_type": "code",
   "execution_count": 3,
   "metadata": {
    "id": "f43b3ec0-25e9-4106-95e4-50e82d5dbb3a"
   },
   "outputs": [],
   "source": [
    "import pandas as pd \n",
    "import numpy as np \n",
    "import matplotlib.pyplot as plt \n",
    "import seaborn as sns \n",
    "import seaborn as sea\n",
    "\n",
    "plt.style.use(\"seaborn\")\n",
    "%matplotlib inline"
   ]
  },
  {
   "cell_type": "code",
   "execution_count": 4,
   "metadata": {
    "id": "2447c6dc-2f86-41d0-a85f-318fd70665e4",
    "outputId": "e3fb88e4-d623-4a80-e9e0-a62774020dea"
   },
   "outputs": [
    {
     "data": {
      "text/html": [
       "<div>\n",
       "<style scoped>\n",
       "    .dataframe tbody tr th:only-of-type {\n",
       "        vertical-align: middle;\n",
       "    }\n",
       "\n",
       "    .dataframe tbody tr th {\n",
       "        vertical-align: top;\n",
       "    }\n",
       "\n",
       "    .dataframe thead th {\n",
       "        text-align: right;\n",
       "    }\n",
       "</style>\n",
       "<table border=\"1\" class=\"dataframe\">\n",
       "  <thead>\n",
       "    <tr style=\"text-align: right;\">\n",
       "      <th></th>\n",
       "      <th>Respondent</th>\n",
       "      <th>MainBranch</th>\n",
       "      <th>Hobbyist</th>\n",
       "      <th>Age</th>\n",
       "      <th>Age1stCode</th>\n",
       "      <th>CompFreq</th>\n",
       "      <th>CompTotal</th>\n",
       "      <th>ConvertedComp</th>\n",
       "      <th>Country</th>\n",
       "      <th>CurrencyDesc</th>\n",
       "      <th>...</th>\n",
       "      <th>SurveyEase</th>\n",
       "      <th>SurveyLength</th>\n",
       "      <th>Trans</th>\n",
       "      <th>UndergradMajor</th>\n",
       "      <th>WebframeDesireNextYear</th>\n",
       "      <th>WebframeWorkedWith</th>\n",
       "      <th>WelcomeChange</th>\n",
       "      <th>WorkWeekHrs</th>\n",
       "      <th>YearsCode</th>\n",
       "      <th>YearsCodePro</th>\n",
       "    </tr>\n",
       "  </thead>\n",
       "  <tbody>\n",
       "    <tr>\n",
       "      <th>0</th>\n",
       "      <td>1</td>\n",
       "      <td>I am a developer by profession</td>\n",
       "      <td>Yes</td>\n",
       "      <td>NaN</td>\n",
       "      <td>13</td>\n",
       "      <td>Monthly</td>\n",
       "      <td>NaN</td>\n",
       "      <td>NaN</td>\n",
       "      <td>Germany</td>\n",
       "      <td>European Euro</td>\n",
       "      <td>...</td>\n",
       "      <td>Neither easy nor difficult</td>\n",
       "      <td>Appropriate in length</td>\n",
       "      <td>No</td>\n",
       "      <td>Computer science, computer engineering, or sof...</td>\n",
       "      <td>ASP.NET Core</td>\n",
       "      <td>ASP.NET;ASP.NET Core</td>\n",
       "      <td>Just as welcome now as I felt last year</td>\n",
       "      <td>50.0</td>\n",
       "      <td>36</td>\n",
       "      <td>27</td>\n",
       "    </tr>\n",
       "    <tr>\n",
       "      <th>1</th>\n",
       "      <td>2</td>\n",
       "      <td>I am a developer by profession</td>\n",
       "      <td>No</td>\n",
       "      <td>NaN</td>\n",
       "      <td>19</td>\n",
       "      <td>NaN</td>\n",
       "      <td>NaN</td>\n",
       "      <td>NaN</td>\n",
       "      <td>United Kingdom</td>\n",
       "      <td>Pound sterling</td>\n",
       "      <td>...</td>\n",
       "      <td>NaN</td>\n",
       "      <td>NaN</td>\n",
       "      <td>NaN</td>\n",
       "      <td>Computer science, computer engineering, or sof...</td>\n",
       "      <td>NaN</td>\n",
       "      <td>NaN</td>\n",
       "      <td>Somewhat more welcome now than last year</td>\n",
       "      <td>NaN</td>\n",
       "      <td>7</td>\n",
       "      <td>4</td>\n",
       "    </tr>\n",
       "    <tr>\n",
       "      <th>2</th>\n",
       "      <td>3</td>\n",
       "      <td>I code primarily as a hobby</td>\n",
       "      <td>Yes</td>\n",
       "      <td>NaN</td>\n",
       "      <td>15</td>\n",
       "      <td>NaN</td>\n",
       "      <td>NaN</td>\n",
       "      <td>NaN</td>\n",
       "      <td>Russian Federation</td>\n",
       "      <td>NaN</td>\n",
       "      <td>...</td>\n",
       "      <td>Neither easy nor difficult</td>\n",
       "      <td>Appropriate in length</td>\n",
       "      <td>NaN</td>\n",
       "      <td>NaN</td>\n",
       "      <td>NaN</td>\n",
       "      <td>NaN</td>\n",
       "      <td>Somewhat more welcome now than last year</td>\n",
       "      <td>NaN</td>\n",
       "      <td>4</td>\n",
       "      <td>NaN</td>\n",
       "    </tr>\n",
       "    <tr>\n",
       "      <th>3</th>\n",
       "      <td>4</td>\n",
       "      <td>I am a developer by profession</td>\n",
       "      <td>Yes</td>\n",
       "      <td>25.0</td>\n",
       "      <td>18</td>\n",
       "      <td>NaN</td>\n",
       "      <td>NaN</td>\n",
       "      <td>NaN</td>\n",
       "      <td>Albania</td>\n",
       "      <td>Albanian lek</td>\n",
       "      <td>...</td>\n",
       "      <td>NaN</td>\n",
       "      <td>NaN</td>\n",
       "      <td>No</td>\n",
       "      <td>Computer science, computer engineering, or sof...</td>\n",
       "      <td>NaN</td>\n",
       "      <td>NaN</td>\n",
       "      <td>Somewhat less welcome now than last year</td>\n",
       "      <td>40.0</td>\n",
       "      <td>7</td>\n",
       "      <td>4</td>\n",
       "    </tr>\n",
       "    <tr>\n",
       "      <th>4</th>\n",
       "      <td>5</td>\n",
       "      <td>I used to be a developer by profession, but no...</td>\n",
       "      <td>Yes</td>\n",
       "      <td>31.0</td>\n",
       "      <td>16</td>\n",
       "      <td>NaN</td>\n",
       "      <td>NaN</td>\n",
       "      <td>NaN</td>\n",
       "      <td>United States</td>\n",
       "      <td>NaN</td>\n",
       "      <td>...</td>\n",
       "      <td>Easy</td>\n",
       "      <td>Too short</td>\n",
       "      <td>No</td>\n",
       "      <td>Computer science, computer engineering, or sof...</td>\n",
       "      <td>Django;Ruby on Rails</td>\n",
       "      <td>Ruby on Rails</td>\n",
       "      <td>Just as welcome now as I felt last year</td>\n",
       "      <td>NaN</td>\n",
       "      <td>15</td>\n",
       "      <td>8</td>\n",
       "    </tr>\n",
       "    <tr>\n",
       "      <th>...</th>\n",
       "      <td>...</td>\n",
       "      <td>...</td>\n",
       "      <td>...</td>\n",
       "      <td>...</td>\n",
       "      <td>...</td>\n",
       "      <td>...</td>\n",
       "      <td>...</td>\n",
       "      <td>...</td>\n",
       "      <td>...</td>\n",
       "      <td>...</td>\n",
       "      <td>...</td>\n",
       "      <td>...</td>\n",
       "      <td>...</td>\n",
       "      <td>...</td>\n",
       "      <td>...</td>\n",
       "      <td>...</td>\n",
       "      <td>...</td>\n",
       "      <td>...</td>\n",
       "      <td>...</td>\n",
       "      <td>...</td>\n",
       "      <td>...</td>\n",
       "    </tr>\n",
       "    <tr>\n",
       "      <th>64456</th>\n",
       "      <td>64858</td>\n",
       "      <td>NaN</td>\n",
       "      <td>Yes</td>\n",
       "      <td>NaN</td>\n",
       "      <td>16</td>\n",
       "      <td>NaN</td>\n",
       "      <td>NaN</td>\n",
       "      <td>NaN</td>\n",
       "      <td>United States</td>\n",
       "      <td>NaN</td>\n",
       "      <td>...</td>\n",
       "      <td>NaN</td>\n",
       "      <td>NaN</td>\n",
       "      <td>NaN</td>\n",
       "      <td>Computer science, computer engineering, or sof...</td>\n",
       "      <td>NaN</td>\n",
       "      <td>NaN</td>\n",
       "      <td>NaN</td>\n",
       "      <td>NaN</td>\n",
       "      <td>10</td>\n",
       "      <td>Less than 1 year</td>\n",
       "    </tr>\n",
       "    <tr>\n",
       "      <th>64457</th>\n",
       "      <td>64867</td>\n",
       "      <td>NaN</td>\n",
       "      <td>Yes</td>\n",
       "      <td>NaN</td>\n",
       "      <td>NaN</td>\n",
       "      <td>NaN</td>\n",
       "      <td>NaN</td>\n",
       "      <td>NaN</td>\n",
       "      <td>Morocco</td>\n",
       "      <td>NaN</td>\n",
       "      <td>...</td>\n",
       "      <td>NaN</td>\n",
       "      <td>NaN</td>\n",
       "      <td>NaN</td>\n",
       "      <td>NaN</td>\n",
       "      <td>NaN</td>\n",
       "      <td>NaN</td>\n",
       "      <td>NaN</td>\n",
       "      <td>NaN</td>\n",
       "      <td>NaN</td>\n",
       "      <td>NaN</td>\n",
       "    </tr>\n",
       "    <tr>\n",
       "      <th>64458</th>\n",
       "      <td>64898</td>\n",
       "      <td>NaN</td>\n",
       "      <td>Yes</td>\n",
       "      <td>NaN</td>\n",
       "      <td>NaN</td>\n",
       "      <td>NaN</td>\n",
       "      <td>NaN</td>\n",
       "      <td>NaN</td>\n",
       "      <td>Viet Nam</td>\n",
       "      <td>NaN</td>\n",
       "      <td>...</td>\n",
       "      <td>NaN</td>\n",
       "      <td>NaN</td>\n",
       "      <td>NaN</td>\n",
       "      <td>NaN</td>\n",
       "      <td>NaN</td>\n",
       "      <td>NaN</td>\n",
       "      <td>NaN</td>\n",
       "      <td>NaN</td>\n",
       "      <td>NaN</td>\n",
       "      <td>NaN</td>\n",
       "    </tr>\n",
       "    <tr>\n",
       "      <th>64459</th>\n",
       "      <td>64925</td>\n",
       "      <td>NaN</td>\n",
       "      <td>Yes</td>\n",
       "      <td>NaN</td>\n",
       "      <td>NaN</td>\n",
       "      <td>NaN</td>\n",
       "      <td>NaN</td>\n",
       "      <td>NaN</td>\n",
       "      <td>Poland</td>\n",
       "      <td>NaN</td>\n",
       "      <td>...</td>\n",
       "      <td>NaN</td>\n",
       "      <td>NaN</td>\n",
       "      <td>NaN</td>\n",
       "      <td>NaN</td>\n",
       "      <td>Angular;Angular.js;React.js</td>\n",
       "      <td>NaN</td>\n",
       "      <td>NaN</td>\n",
       "      <td>NaN</td>\n",
       "      <td>NaN</td>\n",
       "      <td>NaN</td>\n",
       "    </tr>\n",
       "    <tr>\n",
       "      <th>64460</th>\n",
       "      <td>65112</td>\n",
       "      <td>NaN</td>\n",
       "      <td>Yes</td>\n",
       "      <td>NaN</td>\n",
       "      <td>NaN</td>\n",
       "      <td>NaN</td>\n",
       "      <td>NaN</td>\n",
       "      <td>NaN</td>\n",
       "      <td>Spain</td>\n",
       "      <td>NaN</td>\n",
       "      <td>...</td>\n",
       "      <td>NaN</td>\n",
       "      <td>NaN</td>\n",
       "      <td>NaN</td>\n",
       "      <td>Computer science, computer engineering, or sof...</td>\n",
       "      <td>ASP.NET Core;jQuery</td>\n",
       "      <td>Angular;Angular.js;ASP.NET Core;jQuery</td>\n",
       "      <td>NaN</td>\n",
       "      <td>NaN</td>\n",
       "      <td>NaN</td>\n",
       "      <td>NaN</td>\n",
       "    </tr>\n",
       "  </tbody>\n",
       "</table>\n",
       "<p>64461 rows × 61 columns</p>\n",
       "</div>"
      ],
      "text/plain": [
       "       Respondent                                         MainBranch Hobbyist  \\\n",
       "0               1                     I am a developer by profession      Yes   \n",
       "1               2                     I am a developer by profession       No   \n",
       "2               3                        I code primarily as a hobby      Yes   \n",
       "3               4                     I am a developer by profession      Yes   \n",
       "4               5  I used to be a developer by profession, but no...      Yes   \n",
       "...           ...                                                ...      ...   \n",
       "64456       64858                                                NaN      Yes   \n",
       "64457       64867                                                NaN      Yes   \n",
       "64458       64898                                                NaN      Yes   \n",
       "64459       64925                                                NaN      Yes   \n",
       "64460       65112                                                NaN      Yes   \n",
       "\n",
       "        Age Age1stCode CompFreq  CompTotal  ConvertedComp             Country  \\\n",
       "0       NaN         13  Monthly        NaN            NaN             Germany   \n",
       "1       NaN         19      NaN        NaN            NaN      United Kingdom   \n",
       "2       NaN         15      NaN        NaN            NaN  Russian Federation   \n",
       "3      25.0         18      NaN        NaN            NaN             Albania   \n",
       "4      31.0         16      NaN        NaN            NaN       United States   \n",
       "...     ...        ...      ...        ...            ...                 ...   \n",
       "64456   NaN         16      NaN        NaN            NaN       United States   \n",
       "64457   NaN        NaN      NaN        NaN            NaN             Morocco   \n",
       "64458   NaN        NaN      NaN        NaN            NaN            Viet Nam   \n",
       "64459   NaN        NaN      NaN        NaN            NaN              Poland   \n",
       "64460   NaN        NaN      NaN        NaN            NaN               Spain   \n",
       "\n",
       "         CurrencyDesc  ...                  SurveyEase           SurveyLength  \\\n",
       "0       European Euro  ...  Neither easy nor difficult  Appropriate in length   \n",
       "1      Pound sterling  ...                         NaN                    NaN   \n",
       "2                 NaN  ...  Neither easy nor difficult  Appropriate in length   \n",
       "3        Albanian lek  ...                         NaN                    NaN   \n",
       "4                 NaN  ...                        Easy              Too short   \n",
       "...               ...  ...                         ...                    ...   \n",
       "64456             NaN  ...                         NaN                    NaN   \n",
       "64457             NaN  ...                         NaN                    NaN   \n",
       "64458             NaN  ...                         NaN                    NaN   \n",
       "64459             NaN  ...                         NaN                    NaN   \n",
       "64460             NaN  ...                         NaN                    NaN   \n",
       "\n",
       "      Trans                                     UndergradMajor  \\\n",
       "0        No  Computer science, computer engineering, or sof...   \n",
       "1       NaN  Computer science, computer engineering, or sof...   \n",
       "2       NaN                                                NaN   \n",
       "3        No  Computer science, computer engineering, or sof...   \n",
       "4        No  Computer science, computer engineering, or sof...   \n",
       "...     ...                                                ...   \n",
       "64456   NaN  Computer science, computer engineering, or sof...   \n",
       "64457   NaN                                                NaN   \n",
       "64458   NaN                                                NaN   \n",
       "64459   NaN                                                NaN   \n",
       "64460   NaN  Computer science, computer engineering, or sof...   \n",
       "\n",
       "            WebframeDesireNextYear                      WebframeWorkedWith  \\\n",
       "0                     ASP.NET Core                    ASP.NET;ASP.NET Core   \n",
       "1                              NaN                                     NaN   \n",
       "2                              NaN                                     NaN   \n",
       "3                              NaN                                     NaN   \n",
       "4             Django;Ruby on Rails                           Ruby on Rails   \n",
       "...                            ...                                     ...   \n",
       "64456                          NaN                                     NaN   \n",
       "64457                          NaN                                     NaN   \n",
       "64458                          NaN                                     NaN   \n",
       "64459  Angular;Angular.js;React.js                                     NaN   \n",
       "64460          ASP.NET Core;jQuery  Angular;Angular.js;ASP.NET Core;jQuery   \n",
       "\n",
       "                                  WelcomeChange WorkWeekHrs YearsCode  \\\n",
       "0       Just as welcome now as I felt last year        50.0        36   \n",
       "1      Somewhat more welcome now than last year         NaN         7   \n",
       "2      Somewhat more welcome now than last year         NaN         4   \n",
       "3      Somewhat less welcome now than last year        40.0         7   \n",
       "4       Just as welcome now as I felt last year         NaN        15   \n",
       "...                                         ...         ...       ...   \n",
       "64456                                       NaN         NaN        10   \n",
       "64457                                       NaN         NaN       NaN   \n",
       "64458                                       NaN         NaN       NaN   \n",
       "64459                                       NaN         NaN       NaN   \n",
       "64460                                       NaN         NaN       NaN   \n",
       "\n",
       "           YearsCodePro  \n",
       "0                    27  \n",
       "1                     4  \n",
       "2                   NaN  \n",
       "3                     4  \n",
       "4                     8  \n",
       "...                 ...  \n",
       "64456  Less than 1 year  \n",
       "64457               NaN  \n",
       "64458               NaN  \n",
       "64459               NaN  \n",
       "64460               NaN  \n",
       "\n",
       "[64461 rows x 61 columns]"
      ]
     },
     "execution_count": 4,
     "metadata": {},
     "output_type": "execute_result"
    }
   ],
   "source": [
    "#Read the csv file\n",
    "\n",
    "data = pd.read_csv(\"survey_results_public.csv\")\n",
    "data"
   ]
  },
  {
   "cell_type": "code",
   "execution_count": null,
   "metadata": {
    "id": "3fa66fd0-4227-4895-94b4-52c549540e2d",
    "outputId": "5e53670e-fe70-4cf9-f255-d6702768c98a"
   },
   "outputs": [
    {
     "data": {
      "text/html": [
       "<div>\n",
       "<style scoped>\n",
       "    .dataframe tbody tr th:only-of-type {\n",
       "        vertical-align: middle;\n",
       "    }\n",
       "\n",
       "    .dataframe tbody tr th {\n",
       "        vertical-align: top;\n",
       "    }\n",
       "\n",
       "    .dataframe thead th {\n",
       "        text-align: right;\n",
       "    }\n",
       "</style>\n",
       "<table border=\"1\" class=\"dataframe\">\n",
       "  <thead>\n",
       "    <tr style=\"text-align: right;\">\n",
       "      <th></th>\n",
       "      <th>Respondent</th>\n",
       "      <th>Age</th>\n",
       "      <th>CompTotal</th>\n",
       "      <th>ConvertedComp</th>\n",
       "      <th>WorkWeekHrs</th>\n",
       "    </tr>\n",
       "  </thead>\n",
       "  <tbody>\n",
       "    <tr>\n",
       "      <th>count</th>\n",
       "      <td>64461.000000</td>\n",
       "      <td>45446.000000</td>\n",
       "      <td>3.482600e+04</td>\n",
       "      <td>3.475600e+04</td>\n",
       "      <td>41151.000000</td>\n",
       "    </tr>\n",
       "    <tr>\n",
       "      <th>mean</th>\n",
       "      <td>32554.079738</td>\n",
       "      <td>30.834111</td>\n",
       "      <td>3.190464e+242</td>\n",
       "      <td>1.037561e+05</td>\n",
       "      <td>40.782174</td>\n",
       "    </tr>\n",
       "    <tr>\n",
       "      <th>std</th>\n",
       "      <td>18967.442360</td>\n",
       "      <td>9.585392</td>\n",
       "      <td>inf</td>\n",
       "      <td>2.268853e+05</td>\n",
       "      <td>17.816383</td>\n",
       "    </tr>\n",
       "    <tr>\n",
       "      <th>min</th>\n",
       "      <td>1.000000</td>\n",
       "      <td>1.000000</td>\n",
       "      <td>0.000000e+00</td>\n",
       "      <td>0.000000e+00</td>\n",
       "      <td>1.000000</td>\n",
       "    </tr>\n",
       "    <tr>\n",
       "      <th>25%</th>\n",
       "      <td>16116.000000</td>\n",
       "      <td>24.000000</td>\n",
       "      <td>2.000000e+04</td>\n",
       "      <td>2.464800e+04</td>\n",
       "      <td>40.000000</td>\n",
       "    </tr>\n",
       "    <tr>\n",
       "      <th>50%</th>\n",
       "      <td>32231.000000</td>\n",
       "      <td>29.000000</td>\n",
       "      <td>6.300000e+04</td>\n",
       "      <td>5.404900e+04</td>\n",
       "      <td>40.000000</td>\n",
       "    </tr>\n",
       "    <tr>\n",
       "      <th>75%</th>\n",
       "      <td>49142.000000</td>\n",
       "      <td>35.000000</td>\n",
       "      <td>1.250000e+05</td>\n",
       "      <td>9.500000e+04</td>\n",
       "      <td>44.000000</td>\n",
       "    </tr>\n",
       "    <tr>\n",
       "      <th>max</th>\n",
       "      <td>65639.000000</td>\n",
       "      <td>279.000000</td>\n",
       "      <td>1.111111e+247</td>\n",
       "      <td>2.000000e+06</td>\n",
       "      <td>475.000000</td>\n",
       "    </tr>\n",
       "  </tbody>\n",
       "</table>\n",
       "</div>"
      ],
      "text/plain": [
       "         Respondent           Age      CompTotal  ConvertedComp   WorkWeekHrs\n",
       "count  64461.000000  45446.000000   3.482600e+04   3.475600e+04  41151.000000\n",
       "mean   32554.079738     30.834111  3.190464e+242   1.037561e+05     40.782174\n",
       "std    18967.442360      9.585392            inf   2.268853e+05     17.816383\n",
       "min        1.000000      1.000000   0.000000e+00   0.000000e+00      1.000000\n",
       "25%    16116.000000     24.000000   2.000000e+04   2.464800e+04     40.000000\n",
       "50%    32231.000000     29.000000   6.300000e+04   5.404900e+04     40.000000\n",
       "75%    49142.000000     35.000000   1.250000e+05   9.500000e+04     44.000000\n",
       "max    65639.000000    279.000000  1.111111e+247   2.000000e+06    475.000000"
      ]
     },
     "execution_count": 49,
     "metadata": {
      "tags": []
     },
     "output_type": "execute_result"
    }
   ],
   "source": [
    "data.describe()"
   ]
  },
  {
   "cell_type": "code",
   "execution_count": null,
   "metadata": {
    "id": "34682b1c-c9e8-4585-8356-424557ea5a46",
    "outputId": "d631bbb2-8981-495e-8c63-6a57cbee23ce"
   },
   "outputs": [
    {
     "name": "stdout",
     "output_type": "stream",
     "text": [
      "45\n"
     ]
    },
    {
     "data": {
      "text/plain": [
       "Yes    50388\n",
       "No     14028\n",
       "Name: Hobbyist, dtype: int64"
      ]
     },
     "execution_count": 5,
     "metadata": {
      "tags": []
     },
     "output_type": "execute_result"
    }
   ],
   "source": [
    "#Percentage of people who code as a hobby\n",
    "\n",
    "hobby = data['Hobbyist']\n",
    "print(hobby.isnull().sum())\n",
    "hobby.value_counts()"
   ]
  },
  {
   "cell_type": "code",
   "execution_count": null,
   "metadata": {
    "id": "88421ec7-fccf-4f17-93b2-60d006f6c131"
   },
   "outputs": [],
   "source": [
    "hobby = hobby.dropna()"
   ]
  },
  {
   "cell_type": "code",
   "execution_count": null,
   "metadata": {
    "id": "d6161b53-fdf2-40b6-b7f4-99fdfe4554a5",
    "outputId": "b1da931f-3f43-4415-ea79-ab4a8c246ae4"
   },
   "outputs": [
    {
     "data": {
      "text/plain": [
       "78.22280178837556"
      ]
     },
     "execution_count": 7,
     "metadata": {
      "tags": []
     },
     "output_type": "execute_result"
    }
   ],
   "source": [
    "yes_perc = 50388 * 100/len(hobby)\n",
    "no_perc = 100 - yes_perc\n",
    "yes_perc"
   ]
  },
  {
   "cell_type": "code",
   "execution_count": null,
   "metadata": {
    "id": "70a19cfc-1d7c-4ee4-adae-84719e2efd48",
    "outputId": "a98b6d2b-2720-4b61-9f0f-5be118aed44c"
   },
   "outputs": [
    {
     "data": {
      "text/plain": [
       "Yearly     19818\n",
       "Monthly    18899\n",
       "Weekly      1352\n",
       "Name: CompFreq, dtype: int64"
      ]
     },
     "execution_count": 8,
     "metadata": {
      "tags": []
     },
     "output_type": "execute_result"
    }
   ],
   "source": [
    "#Distribution based on frequency of payment\n",
    "\n",
    "CompFreq = data['CompFreq']\n",
    "CompFreq = CompFreq.dropna()\n",
    "CompFreq.value_counts()"
   ]
  },
  {
   "cell_type": "code",
   "execution_count": null,
   "metadata": {
    "id": "e58ce660-83c6-4c0f-871e-17b9903eb403"
   },
   "outputs": [],
   "source": [
    "labels = ['Yearly','Monthly','Weekly']\n",
    "myexplode = [0.02,0.02,0.02]\n",
    "plt.title(\"Frequency of compensation\")\n",
    "plot_CompFreq = plt.pie(CompFreq.value_counts(),labels=labels,explode = myexplode,startangle=30,  autopct='%1.1f%%')"
   ]
  },
  {
   "cell_type": "code",
   "execution_count": null,
   "metadata": {
    "id": "6dd641b6-7070-4781-903b-c3f07de73296"
   },
   "outputs": [],
   "source": [
    "EdLevel = data['EdLevel']\n",
    "EdLevel = EdLevel.dropna()\n",
    "EdLevel_freq = EdLevel.value_counts()\n",
    "print(EdLevel_freq)\n",
    "New_EdLevel = ['Bachelors','Masters','Some university study without earning a degree','Secondary school','Associate degree','Other doctoral degree','Primary/elementary school','Professional degree',' Never completed any formal education ']\n",
    "sns.barplot(y=New_EdLevel,x=EdLevel_freq.values,palette='Oranges_d')"
   ]
  },
  {
   "cell_type": "code",
   "execution_count": null,
   "metadata": {
    "id": "ac3eadba-5e7b-4820-9c7a-402c5ee4bc2c",
    "outputId": "396cdb52-69bb-48cc-e27a-ea6ee1e86efc"
   },
   "outputs": [
    {
     "data": {
      "text/plain": [
       "Computer science, computer engineering, or software engineering                   31582\n",
       "Another engineering discipline (such as civil, electrical, mechanical, etc.)       4754\n",
       "Information systems, information technology, or system administration              4071\n",
       "A natural science (such as biology, chemistry, physics, etc.)                      2205\n",
       "Mathematics or statistics                                                          1849\n",
       "Web development or web design                                                      1789\n",
       "A business discipline (such as accounting, finance, marketing, etc.)               1375\n",
       "A humanities discipline (such as literature, history, philosophy, etc.)            1007\n",
       "A social science (such as anthropology, psychology, political science, etc.)        933\n",
       "Fine arts or performing arts (such as graphic design, music, studio art, etc.)      725\n",
       "I never declared a major                                                            453\n",
       "A health science (such as nursing, pharmacy, radiology, etc.)                       252\n",
       "Name: UndergradMajor, dtype: int64"
      ]
     },
     "execution_count": 10,
     "metadata": {
      "tags": []
     },
     "output_type": "execute_result"
    }
   ],
   "source": [
    "#Distribution based on UG subject\n",
    "\n",
    "ug_major = data['UndergradMajor']\n",
    "ug_major = ug_major.dropna()\n",
    "freq = ug_major.value_counts()\n",
    "freq"
   ]
  },
  {
   "cell_type": "code",
   "execution_count": null,
   "metadata": {
    "colab": {
     "referenced_widgets": [
      "4c37d8a200524da08a600ca633f63fd6"
     ]
    },
    "id": "50cfddd0-67f6-4bcb-a37b-af885dcb7d69",
    "outputId": "aac2153c-5487-4c4c-d0a4-3fea94fdb75c"
   },
   "outputs": [
    {
     "data": {
      "application/vnd.jupyter.widget-view+json": {
       "model_id": "4c37d8a200524da08a600ca633f63fd6",
       "version_major": 2,
       "version_minor": 0
      },
      "text/plain": [
       "Canvas(toolbar=Toolbar(toolitems=[('Home', 'Reset original view', 'home', 'home'), ('Back', 'Back to previous …"
      ]
     },
     "metadata": {
      "tags": []
     },
     "output_type": "display_data"
    }
   ],
   "source": [
    "new_ug_major = ['Computer Science','Other engineering','Information systems','Natural Science','Mathematics','Web Development','Business','Humanities','Social Science','Fine Arts','Not Declared','Health Science ']\n",
    "plt.figure(figsize=(15,8))\n",
    "plt.title(\"Undergraduate major\")\n",
    "plt.xlabel(\"Count\")\n",
    "plot_new_ug_major = sns.barplot(y=new_ug_major,x=freq.values,palette = 'magma_d')"
   ]
  },
  {
   "cell_type": "code",
   "execution_count": null,
   "metadata": {
    "id": "69a20957-ca35-481d-b92a-84d6119d1787"
   },
   "outputs": [],
   "source": [
    "'''\n",
    "A function to seperate out multiple values seperated by ';'\n",
    "m = lenght, series = the series to parse\n",
    "Returns a dictionary\n",
    "'''\n",
    "\n",
    "def parser(m, series):\n",
    "    series_dict =  {}\n",
    "    for i in range(0, m):\n",
    "        try:\n",
    "            lang_coll = str(series[i]).split(';')\n",
    "            for sp_lang in lang_coll:\n",
    "                if sp_lang in series_dict:\n",
    "                    series_dict.update({sp_lang : 1+series_dict.get(sp_lang)})\n",
    "                else:\n",
    "                    series_dict.update({sp_lang :1})\n",
    "        except:\n",
    "            pass\n",
    "\n",
    "    return series_dict\n"
   ]
  },
  {
   "cell_type": "code",
   "execution_count": null,
   "metadata": {
    "id": "196bc2d5-651d-46a0-b78c-9a88f90b7739",
    "outputId": "5c4fc0f5-2f47-4232-9bd6-217506927350"
   },
   "outputs": [
    {
     "data": {
      "text/plain": [
       "{'Elasticsearch': 6817,\n",
       " 'Microsoft SQL Server': 16336,\n",
       " 'Oracle': 8155,\n",
       " 'MySQL': 27559,\n",
       " 'PostgreSQL': 17892,\n",
       " 'Redis': 9056,\n",
       " 'SQLite': 15434,\n",
       " 'MariaDB': 8312,\n",
       " 'Firebase': 7128,\n",
       " 'MongoDB': 13086,\n",
       " 'IBM DB2': 1421,\n",
       " 'DynamoDB': 3497,\n",
       " 'Cassandra': 1654,\n",
       " 'Couchbase': 937}"
      ]
     },
     "execution_count": 13,
     "metadata": {
      "tags": []
     },
     "output_type": "execute_result"
    }
   ],
   "source": [
    "#Distribution of database worked with\n",
    "\n",
    "Database_workedwith = data['DatabaseWorkedWith']\n",
    "Database_workedwith = Database_workedwith.dropna()\n",
    "Database_workedwith = Database_workedwith.values\n",
    "New_Database_workedwith = parser(len(data),Database_workedwith)\n",
    "New_Database_workedwith"
   ]
  },
  {
   "cell_type": "code",
   "execution_count": null,
   "metadata": {
    "id": "128800c9-b70b-4d9b-8bf3-dde14721703a",
    "outputId": "63deb445-43f1-4814-d6f7-a42c2e44c059"
   },
   "outputs": [
    {
     "data": {
      "text/html": [
       "<div>\n",
       "<style scoped>\n",
       "    .dataframe tbody tr th:only-of-type {\n",
       "        vertical-align: middle;\n",
       "    }\n",
       "\n",
       "    .dataframe tbody tr th {\n",
       "        vertical-align: top;\n",
       "    }\n",
       "\n",
       "    .dataframe thead th {\n",
       "        text-align: right;\n",
       "    }\n",
       "</style>\n",
       "<table border=\"1\" class=\"dataframe\">\n",
       "  <thead>\n",
       "    <tr style=\"text-align: right;\">\n",
       "      <th></th>\n",
       "      <th>Elasticsearch</th>\n",
       "      <th>Microsoft SQL Server</th>\n",
       "      <th>Oracle</th>\n",
       "      <th>MySQL</th>\n",
       "      <th>PostgreSQL</th>\n",
       "      <th>Redis</th>\n",
       "      <th>SQLite</th>\n",
       "      <th>MariaDB</th>\n",
       "      <th>Firebase</th>\n",
       "      <th>MongoDB</th>\n",
       "      <th>IBM DB2</th>\n",
       "      <th>DynamoDB</th>\n",
       "      <th>Cassandra</th>\n",
       "      <th>Couchbase</th>\n",
       "    </tr>\n",
       "  </thead>\n",
       "  <tbody>\n",
       "    <tr>\n",
       "      <th>count</th>\n",
       "      <td>6817</td>\n",
       "      <td>16336</td>\n",
       "      <td>8155</td>\n",
       "      <td>27559</td>\n",
       "      <td>17892</td>\n",
       "      <td>9056</td>\n",
       "      <td>15434</td>\n",
       "      <td>8312</td>\n",
       "      <td>7128</td>\n",
       "      <td>13086</td>\n",
       "      <td>1421</td>\n",
       "      <td>3497</td>\n",
       "      <td>1654</td>\n",
       "      <td>937</td>\n",
       "    </tr>\n",
       "  </tbody>\n",
       "</table>\n",
       "</div>"
      ],
      "text/plain": [
       "       Elasticsearch  Microsoft SQL Server  Oracle  MySQL  PostgreSQL  Redis  \\\n",
       "count           6817                 16336    8155  27559       17892   9056   \n",
       "\n",
       "       SQLite  MariaDB  Firebase  MongoDB  IBM DB2  DynamoDB  Cassandra  \\\n",
       "count   15434     8312      7128    13086     1421      3497       1654   \n",
       "\n",
       "       Couchbase  \n",
       "count        937  "
      ]
     },
     "execution_count": 14,
     "metadata": {
      "tags": []
     },
     "output_type": "execute_result"
    }
   ],
   "source": [
    "#Distribution of database willing to work with in comming years\n",
    "\n",
    "New_Database_workedwith_dataframe = pd.DataFrame(New_Database_workedwith,index=['count'])\n",
    "New_Database_workedwith_dataframe"
   ]
  },
  {
   "cell_type": "code",
   "execution_count": null,
   "metadata": {
    "id": "74034ce4-52b3-4438-8bb0-7d45651566bc",
    "outputId": "235f6030-e6db-468b-a12f-50d05af6f6c9"
   },
   "outputs": [
    {
     "data": {
      "text/html": [
       "<div>\n",
       "<style scoped>\n",
       "    .dataframe tbody tr th:only-of-type {\n",
       "        vertical-align: middle;\n",
       "    }\n",
       "\n",
       "    .dataframe tbody tr th {\n",
       "        vertical-align: top;\n",
       "    }\n",
       "\n",
       "    .dataframe thead th {\n",
       "        text-align: right;\n",
       "    }\n",
       "</style>\n",
       "<table border=\"1\" class=\"dataframe\">\n",
       "  <thead>\n",
       "    <tr style=\"text-align: right;\">\n",
       "      <th></th>\n",
       "      <th>Microsoft SQL Server</th>\n",
       "      <th>MySQL</th>\n",
       "      <th>PostgreSQL</th>\n",
       "      <th>MongoDB</th>\n",
       "      <th>Firebase</th>\n",
       "      <th>Cassandra</th>\n",
       "      <th>Elasticsearch</th>\n",
       "      <th>MariaDB</th>\n",
       "      <th>Redis</th>\n",
       "      <th>SQLite</th>\n",
       "      <th>Oracle</th>\n",
       "      <th>DynamoDB</th>\n",
       "      <th>Couchbase</th>\n",
       "      <th>IBM DB2</th>\n",
       "    </tr>\n",
       "  </thead>\n",
       "  <tbody>\n",
       "    <tr>\n",
       "      <th>count</th>\n",
       "      <td>9876</td>\n",
       "      <td>15734</td>\n",
       "      <td>17681</td>\n",
       "      <td>16024</td>\n",
       "      <td>8600</td>\n",
       "      <td>4227</td>\n",
       "      <td>10269</td>\n",
       "      <td>6126</td>\n",
       "      <td>11977</td>\n",
       "      <td>10909</td>\n",
       "      <td>4794</td>\n",
       "      <td>4773</td>\n",
       "      <td>1678</td>\n",
       "      <td>935</td>\n",
       "    </tr>\n",
       "  </tbody>\n",
       "</table>\n",
       "</div>"
      ],
      "text/plain": [
       "       Microsoft SQL Server  MySQL  PostgreSQL  MongoDB  Firebase  Cassandra  \\\n",
       "count                  9876  15734       17681    16024      8600       4227   \n",
       "\n",
       "       Elasticsearch  MariaDB  Redis  SQLite  Oracle  DynamoDB  Couchbase  \\\n",
       "count          10269     6126  11977   10909    4794      4773       1678   \n",
       "\n",
       "       IBM DB2  \n",
       "count      935  "
      ]
     },
     "execution_count": 15,
     "metadata": {
      "tags": []
     },
     "output_type": "execute_result"
    }
   ],
   "source": [
    "Database_Desire = data['DatabaseDesireNextYear']\n",
    "Database_Desire = Database_Desire.dropna()\n",
    "Database_Desire = Database_Desire.values\n",
    "New_Database_Desire = parser(len(data),Database_Desire)\n",
    "New_Database_Desire_dataframe = pd.DataFrame(New_Database_Desire,index=['count'])\n",
    "New_Database_Desire_dataframe"
   ]
  },
  {
   "cell_type": "code",
   "execution_count": null,
   "metadata": {
    "colab": {
     "referenced_widgets": [
      "78cbc7f1c0af44c0b7cb44036df6919a"
     ]
    },
    "id": "417980c3-6a72-4168-9bec-b1784e400bfa",
    "outputId": "0e94eae5-c82e-4295-dbc8-65e302256e41"
   },
   "outputs": [
    {
     "data": {
      "application/vnd.jupyter.widget-view+json": {
       "model_id": "78cbc7f1c0af44c0b7cb44036df6919a",
       "version_major": 2,
       "version_minor": 0
      },
      "text/plain": [
       "Canvas(toolbar=Toolbar(toolitems=[('Home', 'Reset original view', 'home', 'home'), ('Back', 'Back to previous …"
      ]
     },
     "metadata": {
      "tags": []
     },
     "output_type": "display_data"
    },
    {
     "data": {
      "text/plain": [
       "<AxesSubplot:title={'center':'Database Desire'}, xlabel='Count'>"
      ]
     },
     "execution_count": 17,
     "metadata": {
      "tags": []
     },
     "output_type": "execute_result"
    }
   ],
   "source": [
    "plt.figure(figsize=(22,10))\n",
    "plt.subplot(121)\n",
    "sns.barplot(data=New_Database_workedwith_dataframe,orient ='h')\n",
    "plt.title(\"Database worked with\")\n",
    "plt.xlabel(\"Count\")\n",
    "plt.subplot(122)\n",
    "plt.title(\"Database Desire\")\n",
    "plt.xlabel(\"Count\")\n",
    "sns.barplot(data=New_Database_Desire_dataframe,orient='h')"
   ]
  },
  {
   "cell_type": "code",
   "execution_count": null,
   "metadata": {
    "id": "9bcbf799-bca7-4de7-b7a3-efe1b2ba15d3",
    "outputId": "0fe1f6e3-bcb1-46be-bb7c-012340730c56"
   },
   "outputs": [
    {
     "data": {
      "text/html": [
       "<div>\n",
       "<style scoped>\n",
       "    .dataframe tbody tr th:only-of-type {\n",
       "        vertical-align: middle;\n",
       "    }\n",
       "\n",
       "    .dataframe tbody tr th {\n",
       "        vertical-align: top;\n",
       "    }\n",
       "\n",
       "    .dataframe thead th {\n",
       "        text-align: right;\n",
       "    }\n",
       "</style>\n",
       "<table border=\"1\" class=\"dataframe\">\n",
       "  <thead>\n",
       "    <tr style=\"text-align: right;\">\n",
       "      <th></th>\n",
       "      <th>Windows</th>\n",
       "      <th>iOS</th>\n",
       "      <th>AWS</th>\n",
       "      <th>Docker</th>\n",
       "      <th>Linux</th>\n",
       "      <th>MacOS</th>\n",
       "      <th>Android</th>\n",
       "      <th>WordPress</th>\n",
       "      <th>Raspberry Pi</th>\n",
       "      <th>Heroku</th>\n",
       "      <th>Google Cloud Platform</th>\n",
       "      <th>Kubernetes</th>\n",
       "      <th>Arduino</th>\n",
       "      <th>Slack Apps and Integrations</th>\n",
       "      <th>Microsoft Azure</th>\n",
       "      <th>IBM Cloud or Watson</th>\n",
       "    </tr>\n",
       "  </thead>\n",
       "  <tbody>\n",
       "    <tr>\n",
       "      <th>count</th>\n",
       "      <td>28595</td>\n",
       "      <td>6562</td>\n",
       "      <td>14389</td>\n",
       "      <td>18851</td>\n",
       "      <td>29600</td>\n",
       "      <td>12898</td>\n",
       "      <td>14101</td>\n",
       "      <td>7654</td>\n",
       "      <td>8010</td>\n",
       "      <td>5974</td>\n",
       "      <td>7569</td>\n",
       "      <td>6178</td>\n",
       "      <td>5712</td>\n",
       "      <td>3922</td>\n",
       "      <td>7830</td>\n",
       "      <td>876</td>\n",
       "    </tr>\n",
       "  </tbody>\n",
       "</table>\n",
       "</div>"
      ],
      "text/plain": [
       "       Windows   iOS    AWS  Docker  Linux  MacOS  Android  WordPress  \\\n",
       "count    28595  6562  14389   18851  29600  12898    14101       7654   \n",
       "\n",
       "       Raspberry Pi  Heroku  Google Cloud Platform  Kubernetes  Arduino  \\\n",
       "count          8010    5974                   7569        6178     5712   \n",
       "\n",
       "       Slack Apps and Integrations  Microsoft Azure  IBM Cloud or Watson  \n",
       "count                         3922             7830                  876  "
      ]
     },
     "execution_count": 18,
     "metadata": {
      "tags": []
     },
     "output_type": "execute_result"
    }
   ],
   "source": [
    "#Distribution of platform worked with\n",
    "\n",
    "Platform_Worked_With = data['PlatformWorkedWith']\n",
    "Platform_Worked_With = Platform_Worked_With.dropna()\n",
    "Platform_Worked_With = Platform_Worked_With.values\n",
    "New_Platform_Worked_With = parser(len(data),Platform_Worked_With)\n",
    "New_Platform_Worked_With = pd.DataFrame(New_Platform_Worked_With,index=['count'])\n",
    "New_Platform_Worked_With"
   ]
  },
  {
   "cell_type": "code",
   "execution_count": null,
   "metadata": {
    "id": "f981ba6f-a6bf-4da9-86df-6d2edc3719ef",
    "outputId": "958bbbcc-b5de-45eb-c04c-615e8aceb721"
   },
   "outputs": [
    {
     "data": {
      "text/html": [
       "<div>\n",
       "<style scoped>\n",
       "    .dataframe tbody tr th:only-of-type {\n",
       "        vertical-align: middle;\n",
       "    }\n",
       "\n",
       "    .dataframe tbody tr th {\n",
       "        vertical-align: top;\n",
       "    }\n",
       "\n",
       "    .dataframe thead th {\n",
       "        text-align: right;\n",
       "    }\n",
       "</style>\n",
       "<table border=\"1\" class=\"dataframe\">\n",
       "  <thead>\n",
       "    <tr style=\"text-align: right;\">\n",
       "      <th></th>\n",
       "      <th>Android</th>\n",
       "      <th>iOS</th>\n",
       "      <th>Kubernetes</th>\n",
       "      <th>Microsoft Azure</th>\n",
       "      <th>Windows</th>\n",
       "      <th>Linux</th>\n",
       "      <th>MacOS</th>\n",
       "      <th>Docker</th>\n",
       "      <th>Google Cloud Platform</th>\n",
       "      <th>Heroku</th>\n",
       "      <th>Slack Apps and Integrations</th>\n",
       "      <th>Raspberry Pi</th>\n",
       "      <th>AWS</th>\n",
       "      <th>WordPress</th>\n",
       "      <th>Arduino</th>\n",
       "      <th>IBM Cloud or Watson</th>\n",
       "    </tr>\n",
       "  </thead>\n",
       "  <tbody>\n",
       "    <tr>\n",
       "      <th>count</th>\n",
       "      <td>15085</td>\n",
       "      <td>9357</td>\n",
       "      <td>14009</td>\n",
       "      <td>9816</td>\n",
       "      <td>17816</td>\n",
       "      <td>27475</td>\n",
       "      <td>11793</td>\n",
       "      <td>23458</td>\n",
       "      <td>11648</td>\n",
       "      <td>5071</td>\n",
       "      <td>3791</td>\n",
       "      <td>11614</td>\n",
       "      <td>18381</td>\n",
       "      <td>3847</td>\n",
       "      <td>6895</td>\n",
       "      <td>1813</td>\n",
       "    </tr>\n",
       "  </tbody>\n",
       "</table>\n",
       "</div>"
      ],
      "text/plain": [
       "       Android   iOS  Kubernetes  Microsoft Azure  Windows  Linux  MacOS  \\\n",
       "count    15085  9357       14009             9816    17816  27475  11793   \n",
       "\n",
       "       Docker  Google Cloud Platform  Heroku  Slack Apps and Integrations  \\\n",
       "count   23458                  11648    5071                         3791   \n",
       "\n",
       "       Raspberry Pi    AWS  WordPress  Arduino  IBM Cloud or Watson  \n",
       "count         11614  18381       3847     6895                 1813  "
      ]
     },
     "execution_count": 19,
     "metadata": {
      "tags": []
     },
     "output_type": "execute_result"
    }
   ],
   "source": [
    "#Distribution of platform willing to work in comming years\n",
    "\n",
    "Platform_Desire = data['PlatformDesireNextYear']\n",
    "Platform_Desire = Platform_Desire.dropna()\n",
    "Platform_Desire = Platform_Desire.values\n",
    "New_Platform_Desire = parser(len(data),Platform_Desire)\n",
    "New_Platform_Desire = pd.DataFrame(New_Platform_Desire,index=['count'])\n",
    "New_Platform_Desire"
   ]
  },
  {
   "cell_type": "code",
   "execution_count": null,
   "metadata": {
    "colab": {
     "referenced_widgets": [
      "acb4892f94f4413d9a980401b90b4002"
     ]
    },
    "id": "3918fed0-20bc-4dc7-9d55-53b13c9b6c27",
    "outputId": "1624a2b6-fd4d-42cb-9d94-de8956d20961"
   },
   "outputs": [
    {
     "data": {
      "application/vnd.jupyter.widget-view+json": {
       "model_id": "acb4892f94f4413d9a980401b90b4002",
       "version_major": 2,
       "version_minor": 0
      },
      "text/plain": [
       "Canvas(toolbar=Toolbar(toolitems=[('Home', 'Reset original view', 'home', 'home'), ('Back', 'Back to previous …"
      ]
     },
     "metadata": {
      "tags": []
     },
     "output_type": "display_data"
    },
    {
     "data": {
      "text/plain": [
       "<AxesSubplot:title={'center':'Platform Desire'}, xlabel='Count'>"
      ]
     },
     "execution_count": 20,
     "metadata": {
      "tags": []
     },
     "output_type": "execute_result"
    }
   ],
   "source": [
    "plt.figure(figsize=(30,10))\n",
    "plt.subplot(121)\n",
    "sns.barplot(data=New_Platform_Worked_With,orient ='h')\n",
    "plt.title(\"Platform worked with\")\n",
    "plt.xlabel(\"Count\")\n",
    "plt.subplot(122)\n",
    "plt.title(\"Platform Desire\")\n",
    "plt.xlabel(\"Count\")\n",
    "sns.barplot(data=New_Platform_Desire,orient='h')"
   ]
  },
  {
   "cell_type": "code",
   "execution_count": null,
   "metadata": {
    "id": "833b1a4a-5a70-47db-9aa7-2f2f670104db"
   },
   "outputs": [],
   "source": [
    "Webframe_Worked_With = data['WebframeWorkedWith']\n",
    "Webframe_Worked_With = Webframe_Worked_With.dropna()\n",
    "Webframe_Worked_With = Webframe_Worked_With.values\n",
    "New_Webframe_Worked_With = parser(len(data),Webframe_Worked_With)\n",
    "New_Webframe_Worked_With = pd.DataFrame(New_Webframe_Worked_With,index=['count'])\n",
    "Webframe_Desire = data['WebframeDesireNextYear']\n",
    "Webframe_Desire = Webframe_Desire.dropna()\n",
    "Webframe_Desire = Webframe_Desire.values\n",
    "New_Webframe_Desire = parser(len(data),Webframe_Desire)\n",
    "New_Webframe_Desire = pd.DataFrame(New_Webframe_Desire,index=['count'])\n"
   ]
  },
  {
   "cell_type": "code",
   "execution_count": null,
   "metadata": {
    "colab": {
     "referenced_widgets": [
      "74bafd645dbe4d79a9d202f02115929b"
     ]
    },
    "id": "6b7e59c6-389d-4d37-a4a8-182b8898dfbf",
    "outputId": "a281dd0e-d5e7-41c6-ee66-451975ab5309"
   },
   "outputs": [
    {
     "data": {
      "application/vnd.jupyter.widget-view+json": {
       "model_id": "74bafd645dbe4d79a9d202f02115929b",
       "version_major": 2,
       "version_minor": 0
      },
      "text/plain": [
       "Canvas(toolbar=Toolbar(toolitems=[('Home', 'Reset original view', 'home', 'home'), ('Back', 'Back to previous …"
      ]
     },
     "metadata": {
      "tags": []
     },
     "output_type": "display_data"
    },
    {
     "data": {
      "text/plain": [
       "<AxesSubplot:title={'center':'Webframe desired to work with'}, xlabel='Count'>"
      ]
     },
     "execution_count": 23,
     "metadata": {
      "tags": []
     },
     "output_type": "execute_result"
    }
   ],
   "source": [
    "plt.figure(figsize=(22,10))\n",
    "plt.subplot(121)\n",
    "sns.barplot(data=New_Webframe_Worked_With,orient ='h', palette = 'rocket')\n",
    "plt.title(\"Webframe worked with\")\n",
    "plt.xlabel(\"Count\")\n",
    "plt.subplot(122)\n",
    "plt.title(\"Webframe desired to work with\")\n",
    "plt.xlabel(\"Count\")\n",
    "sns.barplot(data=New_Webframe_Desire,orient='h', palette = 'Reds_d', alpha = 0.9)"
   ]
  },
  {
   "cell_type": "code",
   "execution_count": null,
   "metadata": {
    "colab": {
     "referenced_widgets": [
      "1ef1e7bb034449d28d20f12546712632"
     ]
    },
    "id": "a3a3782d-e28a-4505-9032-69d90b370f2c",
    "outputId": "59a1dbe4-e81f-483d-de4d-b841f3aac07c"
   },
   "outputs": [
    {
     "data": {
      "application/vnd.jupyter.widget-view+json": {
       "model_id": "1ef1e7bb034449d28d20f12546712632",
       "version_major": 2,
       "version_minor": 0
      },
      "text/plain": [
       "Canvas(toolbar=Toolbar(toolitems=[('Home', 'Reset original view', 'home', 'home'), ('Back', 'Back to previous …"
      ]
     },
     "metadata": {
      "tags": []
     },
     "output_type": "display_data"
    }
   ],
   "source": [
    "#Distribution of the different dev branches\n",
    "\n",
    "branch_freq = data['MainBranch'].value_counts()\n",
    "# print(branch_freq.keys()\n",
    "labels = ['Dev by profession', 'Student', 'As part of Work', 'Hobby', 'No more a professional']\n",
    "branch_df = pd.DataFrame({'Branch' : labels, 'Count' : branch_freq.values})\n",
    "    \n",
    "sea.barplot(y = 'Branch', x = 'Count', data= branch_df, orient='h', palette='Greens_d', alpha = 0.8)\n",
    "    \n",
    "plt.title(\"Motivation Chart\")\n",
    "plt.tight_layout()"
   ]
  },
  {
   "cell_type": "code",
   "execution_count": null,
   "metadata": {
    "colab": {
     "referenced_widgets": [
      "57eed5b7e137410887d1a487bc7d40d1"
     ]
    },
    "id": "8589c624-2f5a-4e0a-ac38-ee58cec38cb4",
    "outputId": "3fd3541a-3fdb-4912-f038-3bd28227a240"
   },
   "outputs": [
    {
     "data": {
      "application/vnd.jupyter.widget-view+json": {
       "model_id": "57eed5b7e137410887d1a487bc7d40d1",
       "version_major": 2,
       "version_minor": 0
      },
      "text/plain": [
       "Canvas(toolbar=Toolbar(toolitems=[('Home', 'Reset original view', 'home', 'home'), ('Back', 'Back to previous …"
      ]
     },
     "metadata": {
      "tags": []
     },
     "output_type": "display_data"
    },
    {
     "data": {
      "text/plain": [
       "<AxesSubplot:title={'center':'Country wise distribution'}, xlabel='Count', ylabel='Country'>"
      ]
     },
     "execution_count": 33,
     "metadata": {
      "tags": []
     },
     "output_type": "execute_result"
    }
   ],
   "source": [
    "#Distribution based on country\n",
    "\n",
    "country_freq = data['Country'].value_counts().head(20)\n",
    "country_df = pd.DataFrame({'Country': country_freq.keys(), 'Count': country_freq.values})\n",
    "plt.title(\"Country wise distribution\")\n",
    "sea.barplot(y='Country', x ='Count', data = country_df, orient='h', palette=\"rocket_d\")\n",
    "# plt.tight_layout()"
   ]
  },
  {
   "cell_type": "code",
   "execution_count": null,
   "metadata": {
    "colab": {
     "referenced_widgets": [
      "0bbde0c2413a42b0af06b2fec31962ce"
     ]
    },
    "id": "045f3a2d-05d9-4c82-b188-f685e715aba4",
    "outputId": "5452cee8-d9aa-48e5-faef-81726ae77467"
   },
   "outputs": [
    {
     "data": {
      "application/vnd.jupyter.widget-view+json": {
       "model_id": "0bbde0c2413a42b0af06b2fec31962ce",
       "version_major": 2,
       "version_minor": 0
      },
      "text/plain": [
       "Canvas(toolbar=Toolbar(toolitems=[('Home', 'Reset original view', 'home', 'home'), ('Back', 'Back to previous …"
      ]
     },
     "metadata": {
      "tags": []
     },
     "output_type": "display_data"
    },
    {
     "data": {
      "text/plain": [
       "(0.0, 100.0)"
      ]
     },
     "execution_count": 36,
     "metadata": {
      "tags": []
     },
     "output_type": "execute_result"
    }
   ],
   "source": [
    "#Distribution based on age\n",
    "\n",
    "age = data['Age']\n",
    "age = age.dropna()\n",
    "    \n",
    "sea.histplot(x = age, bins = 15, shrink=0.8, binwidth=1, discrete=True, color = '#9575cd')\n",
    "plt.title(\"Age wise distribution\")\n",
    "plt.xlim(0,100)"
   ]
  },
  {
   "cell_type": "code",
   "execution_count": null,
   "metadata": {
    "colab": {
     "referenced_widgets": [
      "291386b1f29f41179a0562ea8d9a07d3"
     ]
    },
    "id": "4ed00a07-fa1a-4a75-bd29-ecf116aeadbe",
    "outputId": "2a4248ac-5530-46b5-e81e-3e2e4440cbe7"
   },
   "outputs": [
    {
     "name": "stderr",
     "output_type": "stream",
     "text": [
      "<ipython-input-38-1588caea20aa>:7: SettingWithCopyWarning: \n",
      "A value is trying to be set on a copy of a slice from a DataFrame\n",
      "\n",
      "See the caveats in the documentation: https://pandas.pydata.org/pandas-docs/stable/user_guide/indexing.html#returning-a-view-versus-a-copy\n",
      "  salary_df['Salary'][i] *= 12\n",
      "<ipython-input-38-1588caea20aa>:9: SettingWithCopyWarning: \n",
      "A value is trying to be set on a copy of a slice from a DataFrame\n",
      "\n",
      "See the caveats in the documentation: https://pandas.pydata.org/pandas-docs/stable/user_guide/indexing.html#returning-a-view-versus-a-copy\n",
      "  salary_df['Salary'][i] *= 52\n"
     ]
    },
    {
     "data": {
      "application/vnd.jupyter.widget-view+json": {
       "model_id": "291386b1f29f41179a0562ea8d9a07d3",
       "version_major": 2,
       "version_minor": 0
      },
      "text/plain": [
       "Canvas(toolbar=Toolbar(toolitems=[('Home', 'Reset original view', 'home', 'home'), ('Back', 'Back to previous …"
      ]
     },
     "metadata": {
      "tags": []
     },
     "output_type": "display_data"
    },
    {
     "data": {
      "text/plain": [
       "Text(0.5, 1.0, 'Salary(per $1000)')"
      ]
     },
     "execution_count": 38,
     "metadata": {
      "tags": []
     },
     "output_type": "execute_result"
    }
   ],
   "source": [
    "#Distribution based on salary earned(in yearly basis(per $1000))\n",
    "\n",
    "salary_df = pd.DataFrame({'mode':data['CompFreq'],'Salary' : data['ConvertedComp']})\n",
    "salary_df = salary_df.dropna().reset_index()\n",
    "for i in range(0, len(salary_df)):\n",
    "    if salary_df['mode'][i] == 'Monthly':\n",
    "        salary_df['Salary'][i] *= 12\n",
    "    elif salary_df['mode'][i] == 'Weekly':\n",
    "        salary_df['Salary'][i] *= 52\n",
    "    \n",
    "salary_df['Salary'] /= 1000\n",
    "salary_df = salary_df[salary_df['Salary'] >= 20]\n",
    "#print(salary_df['salary'])\n",
    "plt.xlim(0, 1500)\n",
    "sea.histplot(x = 'Salary', data = salary_df, bins = 4000, color = '#80cbc4')\n",
    "plt.title(\"Salary(per $1000)\")"
   ]
  },
  {
   "cell_type": "code",
   "execution_count": 10,
   "metadata": {
    "id": "d41baef3-6b74-48e6-8e18-cff73e0c8fd3"
   },
   "outputs": [],
   "source": [
    "def parser(m, series):\n",
    "    series_dict =  {}\n",
    "    for i in range(0, m):\n",
    "        try:\n",
    "            lang_coll = str(series[i]).split(';')\n",
    "            for sp_lang in lang_coll:\n",
    "                if sp_lang in series_dict:\n",
    "                    series_dict.update({sp_lang : 1+series_dict.get(sp_lang)})\n",
    "                else:\n",
    "                    series_dict.update({sp_lang :1})\n",
    "        except:\n",
    "            pass\n",
    "\n",
    "    return series_dict"
   ]
  },
  {
   "cell_type": "code",
   "execution_count": null,
   "metadata": {
    "colab": {
     "referenced_widgets": [
      "14e5f65cc19a4da882367c2261deb234"
     ]
    },
    "id": "ca6d8d36-bc53-4042-9627-76a28439ac7b",
    "outputId": "10b179a1-7cb9-4548-a7ec-9a71f111f945"
   },
   "outputs": [
    {
     "data": {
      "application/vnd.jupyter.widget-view+json": {
       "model_id": "14e5f65cc19a4da882367c2261deb234",
       "version_major": 2,
       "version_minor": 0
      },
      "text/plain": [
       "Canvas(toolbar=Toolbar(toolitems=[('Home', 'Reset original view', 'home', 'home'), ('Back', 'Back to previous …"
      ]
     },
     "metadata": {
      "tags": []
     },
     "output_type": "display_data"
    },
    {
     "data": {
      "text/plain": [
       "<AxesSubplot:title={'center':'Language desired to work with'}, xlabel='Count', ylabel='Programming Language'>"
      ]
     },
     "execution_count": 44,
     "metadata": {
      "tags": []
     },
     "output_type": "execute_result"
    }
   ],
   "source": [
    "#Distribution of language worked with and willing to work in the next years\n",
    "\n",
    "m = len(data)\n",
    "lang = data['LanguageWorkedWith']\n",
    "lang = lang.dropna()\n",
    "lang_dict = parser(m, lang)\n",
    "    \n",
    "lang_df = pd.DataFrame({'Programming Language' : lang_dict.keys(), 'Count' : lang_dict.values()})\\\n",
    "        .sort_values(by='Count', ascending=False).head(20)\n",
    "    \n",
    "lang_future_dict = parser(m, data['LanguageDesireNextYear'].dropna())\n",
    "    \n",
    "lang_future_df = pd.DataFrame({'Programming Language' : lang_future_dict.keys(),\n",
    "                                   'Count' : lang_future_dict.values()}).sort_values(by = 'Count', ascending=False).head(20)\n",
    "    \n",
    "plt.figure(figsize=(25,10))\n",
    "plt.subplot(1,2,1)\n",
    "plt.title(\"Language worked with\")\n",
    "sea.barplot(y = 'Programming Language', x= 'Count', data = lang_df, orient='h', palette='Greens_r')\n",
    "    \n",
    "plt.subplot(1,2,2)\n",
    "plt.title(\"Language desired to work with\")\n",
    "sea.barplot(y = lang_future_df['Programming Language'], x= lang_future_df['Count'],\n",
    "                orient='h', palette='Blues_r')"
   ]
  },
  {
   "cell_type": "code",
   "execution_count": null,
   "metadata": {
    "colab": {
     "referenced_widgets": [
      "309bffcef0634c47a660a0a5cc675566"
     ]
    },
    "id": "0b6466d3-0422-411c-8b09-887097bb918d",
    "outputId": "8e1983d0-d1ee-41b4-dcf1-01a66c105459"
   },
   "outputs": [
    {
     "data": {
      "application/vnd.jupyter.widget-view+json": {
       "model_id": "309bffcef0634c47a660a0a5cc675566",
       "version_major": 2,
       "version_minor": 0
      },
      "text/plain": [
       "Canvas(toolbar=Toolbar(toolitems=[('Home', 'Reset original view', 'home', 'home'), ('Back', 'Back to previous …"
      ]
     },
     "metadata": {
      "tags": []
     },
     "output_type": "display_data"
    },
    {
     "data": {
      "text/plain": [
       "<AxesSubplot:title={'center':'Distribution of types of developers (top 20)'}, xlabel='Count', ylabel='Developer Type'>"
      ]
     },
     "execution_count": 53,
     "metadata": {
      "tags": []
     },
     "output_type": "execute_result"
    }
   ],
   "source": [
    "#Distribution of types of developers\n",
    "\n",
    "dev_type = data['DevType'].dropna()\n",
    "dev_dict = parser(len(data), dev_type)\n",
    "dev_df = pd.DataFrame({'Developer Type' : dev_dict.keys(), 'Count' : dev_dict.values()}).sort_values(by='Count',ascending=False)\\\n",
    "        .head(20)\n",
    "plt.title(\"Distribution of types of developers (top 20)\")\n",
    "\n",
    "sea.barplot(x= dev_df['Count'], y=dev_df['Developer Type'], orient='h', palette='Oranges_d')"
   ]
  },
  {
   "cell_type": "code",
   "execution_count": 5,
   "metadata": {},
   "outputs": [
    {
     "data": {
      "text/plain": [
       "Text(0.5, 1.0, 'Comparison of working hours(per week) in different countries')"
      ]
     },
     "execution_count": 5,
     "metadata": {},
     "output_type": "execute_result"
    },
    {
     "data": {
      "image/png": "[encoded data removed]",
      "text/plain": [
       "<Figure size 432x288 with 1 Axes>"
      ]
     },
     "metadata": {
      "needs_background": "light"
     },
     "output_type": "display_data"
    }
   ],
   "source": [
    "#Working hours per week\n",
    "\n",
    "country_work_df = pd.DataFrame({'Country': data['Country'], 'Working Hours': data['WorkWeekHrs']}).dropna() \\\n",
    "        .reset_index().drop(columns=['index'])\n",
    "country_set = ['United States', 'United Kingdom', 'India', 'Germany', 'Canada','France', 'Brazil', 'Netherlands',\n",
    "                   'Poland', 'Australia', 'Spain', 'Italy', 'Russian Federation','Sweden']\n",
    "    \n",
    "work_set = [0] * len(country_set)\n",
    "    \n",
    "for j in range(0, len(country_set)):\n",
    "        work_set[j] = country_work_df[country_work_df['Country'] == country_set[j]]['Working Hours'].mean()\n",
    "    \n",
    "sea.barplot(y =country_set, x = work_set, orient='h', palette='Blues_r_d')\n",
    "plt.xlim(0, 70)\n",
    "plt.xlabel('Working Hours')\n",
    "plt.title(\"Comparison of working hours(per week) in different countries\")"
   ]
  },
  {
   "cell_type": "code",
   "execution_count": 6,
   "metadata": {},
   "outputs": [
    {
     "data": {
      "text/plain": [
       "Text(0.5, 1.0, 'Comaprison of Working Hours with Age')"
      ]
     },
     "execution_count": 6,
     "metadata": {},
     "output_type": "execute_result"
    },
    {
     "data": {
      "image/png": "[encoded data removed]",
      "text/plain": [
       "<Figure size 432x288 with 1 Axes>"
      ]
     },
     "metadata": {
      "needs_background": "light"
     },
     "output_type": "display_data"
    }
   ],
   "source": [
    "#\n",
    "work_age_df = pd.DataFrame({'Age':data['Age'], 'Working Hours':data['WorkWeekHrs']}).dropna()\n",
    "age_set = np.arange(15,80)\n",
    "hours_set = [0] * len(age_set)\n",
    "    \n",
    "for j in range(0, len(hours_set)):\n",
    "    hours_set[j] = work_age_df[work_age_df['Age'] == age_set[j]]['Working Hours'].mean()\n",
    "    \n",
    "plt.plot(age_set, hours_set, '--g', marker = 'o')\n",
    "plt.xlabel(\"Age\")\n",
    "plt.ylabel(\"Working Hours\")\n",
    "plt.title(\"Comaprison of Working Hours with Age\")"
   ]
  },
  {
   "cell_type": "code",
   "execution_count": 7,
   "metadata": {},
   "outputs": [
    {
     "data": {
      "text/plain": [
       "(-1.1635359669916865,\n",
       " 1.1554035386176063,\n",
       " -1.1858903449379117,\n",
       " 1.1599960328194905)"
      ]
     },
     "execution_count": 7,
     "metadata": {},
     "output_type": "execute_result"
    },
    {
     "data": {
      "image/png": "[encoded data removed]",
      "text/plain": [
       "<Figure size 432x288 with 1 Axes>"
      ]
     },
     "metadata": {},
     "output_type": "display_data"
    }
   ],
   "source": [
    "#Stack Overflow information\n",
    "\n",
    "so_freq = data['SOVisitFreq'].dropna()\n",
    "response_set = so_freq.unique()\n",
    "plt.pie(so_freq.value_counts(), shadow = True, explode=[0.05]*6, autopct='%1.2f%%')\n",
    "plt.title(\"Usage of Stack Overflow\")\n",
    "plt.legend(response_set, loc= 'upper left')\n",
    "plt.axis(\"equal\")"
   ]
  },
  {
   "cell_type": "code",
   "execution_count": 8,
   "metadata": {},
   "outputs": [
    {
     "data": {
      "image/png": "[encoded data removed]",
      "text/plain": [
       "<Figure size 720x504 with 2 Axes>"
      ]
     },
     "metadata": {
      "needs_background": "light"
     },
     "output_type": "display_data"
    }
   ],
   "source": [
    "#Educational qualification\n",
    "\n",
    "emp_df = pd.DataFrame({'Ed': data['EdLevel'], 'Emp' : data['Employment']}).dropna()\n",
    "tar1 = 'Bachelor’s degree (B.A., B.S., B.Eng., etc.)'\n",
    "tar2 = 'Master’s degree (M.A., M.S., M.Eng., MBA, etc.)'\n",
    "    \n",
    "emp_single = emp_df[emp_df['Ed'] == tar1]['Emp']\n",
    "emp_single_freq = emp_single.value_counts()\n",
    "    \n",
    "emp_masters = emp_df[emp_df['Ed'] == tar2]['Emp']\n",
    "emp_masters_freq = emp_masters.value_counts()\n",
    "    \n",
    "plt.figure(figsize=(10,7))\n",
    "plt.subplot(2,1,1)\n",
    "plt.title('Bachelor\\'s Degree Holder')\n",
    "sea.barplot(y = emp_single_freq.keys(), x = emp_single_freq.values, orient='h', palette='Blues_r')\n",
    "    \n",
    "plt.subplot(2,1,2)\n",
    "plt.title('Master\\'s Degree Holder')\n",
    "sea.barplot(y=emp_masters_freq.keys(), x = emp_masters_freq.values, orient='h', palette='Blues_r')\n",
    "    \n",
    "plt.xlabel('Count')\n",
    "plt.tight_layout()"
   ]
  },
  {
   "cell_type": "code",
   "execution_count": 11,
   "metadata": {},
   "outputs": [
    {
     "name": "stdout",
     "output_type": "stream",
     "text": [
      "0                     Curious about other opportunities\n",
      "1                 Wanting to work with new technologies\n",
      "2                                   Better compensation\n",
      "3                    Growth or leadership opportunities\n",
      "4                        Trouble with my direct manager\n",
      "5                 Trouble with leadership at my company\n",
      "6                              Better work/life balance\n",
      "7                                   Looking to relocate\n",
      "8           Having a bad day (or week or month) at work\n",
      "9     Wanting to share accomplishments with a wider ...\n",
      "10                            Trouble with my teammates\n",
      "11                                         Just because\n",
      "Name: Reason, dtype: object\n"
     ]
    },
    {
     "data": {
      "text/plain": [
       "(array([ 0,  1,  2,  3,  4,  5,  6,  7,  8,  9, 10, 11]),\n",
       " [Text(0, 0, 'Curious about other opportunities'),\n",
       "  Text(0, 1, 'Wanting to work with new technologies'),\n",
       "  Text(0, 2, 'Better compensation'),\n",
       "  Text(0, 3, 'Growth or leadership opportunities'),\n",
       "  Text(0, 4, 'Trouble with my direct manager'),\n",
       "  Text(0, 5, 'Trouble with leadership at my company'),\n",
       "  Text(0, 6, 'Better work/life balance'),\n",
       "  Text(0, 7, 'Looking to relocate'),\n",
       "  Text(0, 8, 'Having a bad day (or week or month) at work'),\n",
       "  Text(0, 9, 'Wanting to share accomplishments with a wider network'),\n",
       "  Text(0, 10, 'Trouble with my teammates'),\n",
       "  Text(0, 11, 'Just because')])"
      ]
     },
     "execution_count": 11,
     "metadata": {},
     "output_type": "execute_result"
    },
    {
     "data": {
      "image/png": "[encoded data removed]",
      "text/plain": [
       "<Figure size 432x288 with 1 Axes>"
      ]
     },
     "metadata": {
      "needs_background": "light"
     },
     "output_type": "display_data"
    }
   ],
   "source": [
    "#Factors for a good job\n",
    "\n",
    "job_hunt = data['NEWJobHunt'].dropna()\n",
    "jon_hunt_dict = parser(len(data), job_hunt)\n",
    "job_hunt_df = pd.DataFrame({'Reason' : jon_hunt_dict.keys(), 'Count' : jon_hunt_dict.values()})\n",
    "print(job_hunt_df['Reason'])\n",
    "reason = ['']\n",
    "sea.barplot(y = 'Reason', x = 'Count', data = job_hunt_df, palette='Blues_d')\n",
    "plt.title(\"Job hunt reason\")\n",
    "plt.yticks(rotation = 60)"
   ]
  },
  {
   "cell_type": "code",
   "execution_count": 12,
   "metadata": {},
   "outputs": [
    {
     "name": "stdout",
     "output_type": "stream",
     "text": [
      "0    Languages, frameworks, and other technologies ...\n",
      "4                Office environment or company culture\n",
      "3                     Flex time or a flexible schedule\n",
      "2           Opportunities for professional development\n",
      "1                                  Remote work options\n",
      "7    How widely used or impactful my work output wo...\n",
      "Name: Need, dtype: object\n"
     ]
    },
    {
     "data": {
      "text/plain": [
       "Text(0.5, 1.0, 'Job Factors')"
      ]
     },
     "execution_count": 12,
     "metadata": {},
     "output_type": "execute_result"
    },
    {
     "data": {
      "image/png": "[encoded data removed]",
      "text/plain": [
       "<Figure size 432x288 with 1 Axes>"
      ]
     },
     "metadata": {
      "needs_background": "light"
     },
     "output_type": "display_data"
    }
   ],
   "source": [
    "job_fact_dict = parser(len(data), data['JobFactors'].dropna())\n",
    "job_fact_df = pd.DataFrame({'Need' : job_fact_dict.keys(), 'Count' : job_fact_dict.values()}).sort_values(by = 'Count', ascending=False)\\\n",
    "        .head(6)\n",
    "print(job_fact_df['Need'])\n",
    "    \n",
    "labels = ['Technology', 'Company culture', 'Flexible schedule', 'Opportunities', 'Remote work', 'Impact of Work']\n",
    "sea.barplot(y = labels, x = job_fact_df['Count'],orient= 'h', palette='Greens_d')\n",
    "plt.title('Job Factors')"
   ]
  },
  {
   "cell_type": "code",
   "execution_count": null,
   "metadata": {
    "id": "2c8795aa-5008-4dba-ad88-6b95bd3ee414"
   },
   "outputs": [],
   "source": [
    "survey = pd.read_csv(\"survey_results_public.csv\")"
   ]
  },
  {
   "cell_type": "code",
   "execution_count": null,
   "metadata": {
    "id": "c04688c9-3693-487a-8f5c-8d3bc010929d",
    "outputId": "400e02bf-1f7d-4966-952b-b698fba52db1"
   },
   "outputs": [
    {
     "data": {
      "text/html": [
       "<div>\n",
       "<style scoped>\n",
       "    .dataframe tbody tr th:only-of-type {\n",
       "        vertical-align: middle;\n",
       "    }\n",
       "\n",
       "    .dataframe tbody tr th {\n",
       "        vertical-align: top;\n",
       "    }\n",
       "\n",
       "    .dataframe thead th {\n",
       "        text-align: right;\n",
       "    }\n",
       "</style>\n",
       "<table border=\"1\" class=\"dataframe\">\n",
       "  <thead>\n",
       "    <tr style=\"text-align: right;\">\n",
       "      <th></th>\n",
       "      <th>Gender</th>\n",
       "    </tr>\n",
       "  </thead>\n",
       "  <tbody>\n",
       "    <tr>\n",
       "      <th>0</th>\n",
       "      <td>Man</td>\n",
       "    </tr>\n",
       "    <tr>\n",
       "      <th>1</th>\n",
       "      <td>NaN</td>\n",
       "    </tr>\n",
       "    <tr>\n",
       "      <th>2</th>\n",
       "      <td>NaN</td>\n",
       "    </tr>\n",
       "    <tr>\n",
       "      <th>3</th>\n",
       "      <td>Man</td>\n",
       "    </tr>\n",
       "    <tr>\n",
       "      <th>4</th>\n",
       "      <td>Man</td>\n",
       "    </tr>\n",
       "    <tr>\n",
       "      <th>...</th>\n",
       "      <td>...</td>\n",
       "    </tr>\n",
       "    <tr>\n",
       "      <th>64456</th>\n",
       "      <td>NaN</td>\n",
       "    </tr>\n",
       "    <tr>\n",
       "      <th>64457</th>\n",
       "      <td>NaN</td>\n",
       "    </tr>\n",
       "    <tr>\n",
       "      <th>64458</th>\n",
       "      <td>NaN</td>\n",
       "    </tr>\n",
       "    <tr>\n",
       "      <th>64459</th>\n",
       "      <td>NaN</td>\n",
       "    </tr>\n",
       "    <tr>\n",
       "      <th>64460</th>\n",
       "      <td>NaN</td>\n",
       "    </tr>\n",
       "  </tbody>\n",
       "</table>\n",
       "<p>64461 rows × 1 columns</p>\n",
       "</div>"
      ],
      "text/plain": [
       "      Gender\n",
       "0        Man\n",
       "1        NaN\n",
       "2        NaN\n",
       "3        Man\n",
       "4        Man\n",
       "...      ...\n",
       "64456    NaN\n",
       "64457    NaN\n",
       "64458    NaN\n",
       "64459    NaN\n",
       "64460    NaN\n",
       "\n",
       "[64461 rows x 1 columns]"
      ]
     },
     "execution_count": 93,
     "metadata": {
      "tags": []
     },
     "output_type": "execute_result"
    }
   ],
   "source": [
    "gender_survey = survey[[\"Gender\"]]\n",
    "gender_survey"
   ]
  },
  {
   "cell_type": "code",
   "execution_count": null,
   "metadata": {
    "id": "b1e1c786-1d27-4c41-9444-bb3eed193e17",
    "outputId": "80ff56d5-2773-4ffb-82e6-55af2df1046f"
   },
   "outputs": [
    {
     "ename": "NameError",
     "evalue": "name 'gender_survey' is not defined",
     "output_type": "error",
     "traceback": [
      "\u001b[1;31m---------------------------------------------------------------------------\u001b[0m",
      "\u001b[1;31mNameError\u001b[0m                                 Traceback (most recent call last)",
      "\u001b[1;32m<ipython-input-36-95e89cbc4a97>\u001b[0m in \u001b[0;36m<module>\u001b[1;34m\u001b[0m\n\u001b[0;32m      1\u001b[0m \u001b[1;31m#Distribution based on gender\u001b[0m\u001b[1;33m\u001b[0m\u001b[1;33m\u001b[0m\u001b[1;33m\u001b[0m\u001b[0m\n\u001b[0;32m      2\u001b[0m \u001b[1;33m\u001b[0m\u001b[0m\n\u001b[1;32m----> 3\u001b[1;33m \u001b[0mgender_survey\u001b[0m\u001b[1;33m.\u001b[0m\u001b[0mGender\u001b[0m\u001b[1;33m.\u001b[0m\u001b[0munique\u001b[0m\u001b[1;33m(\u001b[0m\u001b[1;33m)\u001b[0m\u001b[1;33m\u001b[0m\u001b[1;33m\u001b[0m\u001b[0m\n\u001b[0m\u001b[0;32m      4\u001b[0m \u001b[0mgender_survey\u001b[0m\u001b[1;33m.\u001b[0m\u001b[0mvalue_counts\u001b[0m\u001b[1;33m(\u001b[0m\u001b[1;33m)\u001b[0m\u001b[1;33m\u001b[0m\u001b[1;33m\u001b[0m\u001b[0m\n",
      "\u001b[1;31mNameError\u001b[0m: name 'gender_survey' is not defined"
     ]
    }
   ],
   "source": [
    "#Distribution based on gender\n",
    "\n",
    "gender_survey.Gender.unique()\n",
    "gender_survey.value_counts()"
   ]
  },
  {
   "cell_type": "code",
   "execution_count": null,
   "metadata": {
    "id": "70047342-236b-497b-8e4b-6d7a18e388d3",
    "outputId": "9865d119-eb78-4a76-8ec8-3e27e7bd75cd"
   },
   "outputs": [
    {
     "data": {
      "image/png": "[encoded data removed]",
      "text/plain": [
       "<Figure size 432x288 with 1 Axes>"
      ]
     },
     "metadata": {
      "tags": []
     },
     "output_type": "display_data"
    }
   ],
   "source": [
    "gender_counts = {\"Man\":40812, \"Woman\": 3307, \"Others\":585 }\n",
    "\n",
    "\n",
    "labels = list(gender_counts.keys())\n",
    "sizes = list(gender_counts.values())\n",
    "explode = [0,0.2,0.28]\n",
    "fig1, ax1 = plt.subplots()\n",
    "ax1.pie(sizes, explode=explode, labels=labels, autopct='%1.1f%%',\n",
    "        shadow=True, startangle=30)\n",
    "ax1.axis('equal')  \n",
    "plt.title(\"Distribution of genders of respondents\")\n",
    "plt.show()"
   ]
  },
  {
   "cell_type": "code",
   "execution_count": null,
   "metadata": {
    "id": "070c59f2-05ac-46cb-8bd2-fbcf4a8c5047"
   },
   "outputs": [],
   "source": []
  },
  {
   "cell_type": "code",
   "execution_count": null,
   "metadata": {
    "id": "c2f75686-45c9-4644-a4e5-0136edf70924",
    "outputId": "d0d868a9-6a30-4624-fb0e-07e88adbae59"
   },
   "outputs": [
    {
     "name": "stderr",
     "output_type": "stream",
     "text": [
      "<ipython-input-112-3d48ff4b6bf6>:2: SettingWithCopyWarning: \n",
      "A value is trying to be set on a copy of a slice from a DataFrame\n",
      "\n",
      "See the caveats in the documentation: https://pandas.pydata.org/pandas-docs/stable/user_guide/indexing.html#returning-a-view-versus-a-copy\n",
      "  os.dropna(inplace=True)\n",
      "C:\\Users\\rahul\\anaconda3\\lib\\site-packages\\seaborn\\_decorators.py:36: FutureWarning: Pass the following variables as keyword args: x, y. From version 0.12, the only valid positional argument will be `data`, and passing other arguments without an explicit keyword will result in an error or misinterpretation.\n",
      "  warnings.warn(\n"
     ]
    },
    {
     "data": {
      "image/png": "[encoded data removed]",
      "text/plain": [
       "<Figure size 432x288 with 1 Axes>"
      ]
     },
     "metadata": {
      "tags": []
     },
     "output_type": "display_data"
    }
   ],
   "source": [
    "#Distribution based on OS used\n",
    "\n",
    "os = survey[[\"OpSys\"]]\n",
    "os.dropna(inplace=True)\n",
    "osvalues = (os.value_counts()).to_dict()\n",
    "osx = [\"Windows\", \"Linux-based\", \"MacOS\", 'BSD']\n",
    "osy = list(osvalues.values())\n",
    "plt.title(\"Operating System used\")\n",
    "sns.barplot(osx,osy, palette=\"Blues_r\")\n",
    "plt.show()"
   ]
  },
  {
   "cell_type": "code",
   "execution_count": null,
   "metadata": {
    "id": "abde6d61-83a9-4ca2-94b0-223b80b22edd",
    "outputId": "be12a5e7-af2e-4572-e10a-b1fb37ffe1fc"
   },
   "outputs": [
    {
     "name": "stderr",
     "output_type": "stream",
     "text": [
      "<ipython-input-56-748a47575945>:7: SettingWithCopyWarning: \n",
      "A value is trying to be set on a copy of a slice from a DataFrame\n",
      "\n",
      "See the caveats in the documentation: https://pandas.pydata.org/pandas-docs/stable/user_guide/indexing.html#returning-a-view-versus-a-copy\n",
      "  salary_df['Salary'][i] *= 12\n",
      "<ipython-input-56-748a47575945>:9: SettingWithCopyWarning: \n",
      "A value is trying to be set on a copy of a slice from a DataFrame\n",
      "\n",
      "See the caveats in the documentation: https://pandas.pydata.org/pandas-docs/stable/user_guide/indexing.html#returning-a-view-versus-a-copy\n",
      "  salary_df['Salary'][i] *= 52\n"
     ]
    }
   ],
   "source": [
    "data = pd.read_csv(\"survey_results_public.csv\")\n",
    "salary_df = pd.DataFrame({'mode':data['CompFreq'],'Salary' : data['ConvertedComp']})\n",
    "salary_df = salary_df.dropna().reset_index()\n",
    "\n",
    "for i in range(0, len(salary_df)):\n",
    "    if salary_df['mode'][i] == 'Monthly':\n",
    "            salary_df['Salary'][i] *= 12\n",
    "    elif salary_df['mode'][i] == 'Weekly':\n",
    "            salary_df['Salary'][i] *= 52"
   ]
  },
  {
   "cell_type": "code",
   "execution_count": null,
   "metadata": {
    "id": "74fc4c02-294d-4c79-a8a7-cd64b1530fcb"
   },
   "outputs": [],
   "source": [
    "prosalary = survey[[\"YearsCodePro\",\"CompFreq\", \"ConvertedComp\"]]\n",
    "prosalary = prosalary[[\"YearsCodePro\",\"CompFreq\", \"ConvertedComp\"]].dropna(subset=[\"CompFreq\", \"ConvertedComp\"])\n",
    "prosalary = prosalary.reset_index()\n",
    "prosalary[\"ConvertedComp\"] = salary_df[\"Salary\"]\n",
    "prosalary = prosalary.drop([\"CompFreq\",\"index\"], axis=1)\n",
    "prosalary = prosalary[[\"YearsCodePro\", \"ConvertedComp\"]]\n"
   ]
  },
  {
   "cell_type": "code",
   "execution_count": null,
   "metadata": {
    "id": "be78c9fc-6aa8-4ff3-8cca-e26a19c7afd2"
   },
   "outputs": [],
   "source": [
    "proyears = list(prosalary.YearsCodePro.unique())"
   ]
  },
  {
   "cell_type": "code",
   "execution_count": null,
   "metadata": {
    "id": "8fbbd469-7cb4-45a5-ba0d-15cf49658f42",
    "outputId": "c33f108e-159c-4f2e-9e3c-1ac3070e39cb"
   },
   "outputs": [
    {
     "ename": "TypeError",
     "evalue": "'<' not supported between instances of 'float' and 'str'",
     "output_type": "error",
     "traceback": [
      "\u001b[1;31m---------------------------------------------------------------------------\u001b[0m",
      "\u001b[1;31mTypeError\u001b[0m                                 Traceback (most recent call last)",
      "\u001b[1;32m<ipython-input-59-e30dbda66b64>\u001b[0m in \u001b[0;36m<module>\u001b[1;34m\u001b[0m\n\u001b[1;32m----> 1\u001b[1;33m \u001b[0mproyears\u001b[0m\u001b[1;33m.\u001b[0m\u001b[0msort\u001b[0m\u001b[1;33m(\u001b[0m\u001b[1;33m)\u001b[0m\u001b[1;33m\u001b[0m\u001b[1;33m\u001b[0m\u001b[0m\n\u001b[0m",
      "\u001b[1;31mTypeError\u001b[0m: '<' not supported between instances of 'float' and 'str'"
     ]
    }
   ],
   "source": [
    "proyears.sort()"
   ]
  },
  {
   "cell_type": "code",
   "execution_count": null,
   "metadata": {
    "id": "cd6f887b-8aa8-4626-a381-8e81583969d9",
    "outputId": "2dc039a0-8d22-4702-e8b1-718e1205a82b"
   },
   "outputs": [
    {
     "ename": "ValueError",
     "evalue": "invalid literal for int() with base 10: 'Less than 1 year'",
     "output_type": "error",
     "traceback": [
      "\u001b[1;31m---------------------------------------------------------------------------\u001b[0m",
      "\u001b[1;31mValueError\u001b[0m                                Traceback (most recent call last)",
      "\u001b[1;32m<ipython-input-60-9d8c0ba46420>\u001b[0m in \u001b[0;36m<module>\u001b[1;34m\u001b[0m\n\u001b[0;32m      1\u001b[0m \u001b[1;32mfor\u001b[0m \u001b[0mi\u001b[0m \u001b[1;32min\u001b[0m \u001b[0mrange\u001b[0m\u001b[1;33m(\u001b[0m\u001b[0mlen\u001b[0m\u001b[1;33m(\u001b[0m\u001b[0mproyears\u001b[0m\u001b[1;33m)\u001b[0m\u001b[1;33m-\u001b[0m\u001b[1;36m2\u001b[0m\u001b[1;33m)\u001b[0m\u001b[1;33m:\u001b[0m\u001b[1;33m\u001b[0m\u001b[1;33m\u001b[0m\u001b[0m\n\u001b[1;32m----> 2\u001b[1;33m     \u001b[0mproyears\u001b[0m\u001b[1;33m[\u001b[0m\u001b[0mi\u001b[0m\u001b[1;33m]\u001b[0m\u001b[1;33m=\u001b[0m\u001b[0mint\u001b[0m\u001b[1;33m(\u001b[0m\u001b[0mproyears\u001b[0m\u001b[1;33m[\u001b[0m\u001b[0mi\u001b[0m\u001b[1;33m]\u001b[0m\u001b[1;33m)\u001b[0m\u001b[1;33m\u001b[0m\u001b[1;33m\u001b[0m\u001b[0m\n\u001b[0m",
      "\u001b[1;31mValueError\u001b[0m: invalid literal for int() with base 10: 'Less than 1 year'"
     ]
    }
   ],
   "source": [
    "for i in range(len(proyears)-2):\n",
    "    proyears[i]=int(proyears[i])"
   ]
  },
  {
   "cell_type": "code",
   "execution_count": null,
   "metadata": {
    "id": "ff0f6280-01d3-4512-aa93-7ce94d5c375b"
   },
   "outputs": [],
   "source": [
    "prosalarymean = list()\n",
    "for i in proyears:\n",
    "    prosalarymean.append(prosalary[prosalary[\"YearsCodePro\"]==str(i)][\"ConvertedComp\"].mean())"
   ]
  },
  {
   "cell_type": "code",
   "execution_count": null,
   "metadata": {
    "id": "616a3398-b671-491e-81eb-464a2bcd211d",
    "outputId": "b53e9a02-b71e-4c1d-dd67-feb690f7d32f"
   },
   "outputs": [
    {
     "data": {
      "text/plain": [
       "([<matplotlib.axis.XTick at 0x24191829cd0>,\n",
       "  <matplotlib.axis.XTick at 0x24191829ca0>,\n",
       "  <matplotlib.axis.XTick at 0x24191829880>,\n",
       "  <matplotlib.axis.XTick at 0x24191856760>,\n",
       "  <matplotlib.axis.XTick at 0x24191856c70>,\n",
       "  <matplotlib.axis.XTick at 0x2419185e1c0>,\n",
       "  <matplotlib.axis.XTick at 0x2419185e6d0>,\n",
       "  <matplotlib.axis.XTick at 0x2419185ebe0>,\n",
       "  <matplotlib.axis.XTick at 0x24191864130>,\n",
       "  <matplotlib.axis.XTick at 0x24191864640>,\n",
       "  <matplotlib.axis.XTick at 0x24191864b50>,\n",
       "  <matplotlib.axis.XTick at 0x24191864880>,\n",
       "  <matplotlib.axis.XTick at 0x2419185e910>,\n",
       "  <matplotlib.axis.XTick at 0x241918569a0>,\n",
       "  <matplotlib.axis.XTick at 0x2419186c400>,\n",
       "  <matplotlib.axis.XTick at 0x2419186c7f0>,\n",
       "  <matplotlib.axis.XTick at 0x2419186cca0>,\n",
       "  <matplotlib.axis.XTick at 0x241918701f0>],\n",
       " [Text(0, 0, ''),\n",
       "  Text(0, 0, ''),\n",
       "  Text(0, 0, ''),\n",
       "  Text(0, 0, ''),\n",
       "  Text(0, 0, ''),\n",
       "  Text(0, 0, ''),\n",
       "  Text(0, 0, ''),\n",
       "  Text(0, 0, ''),\n",
       "  Text(0, 0, ''),\n",
       "  Text(0, 0, ''),\n",
       "  Text(0, 0, ''),\n",
       "  Text(0, 0, ''),\n",
       "  Text(0, 0, ''),\n",
       "  Text(0, 0, ''),\n",
       "  Text(0, 0, ''),\n",
       "  Text(0, 0, ''),\n",
       "  Text(0, 0, ''),\n",
       "  Text(0, 0, '')])"
      ]
     },
     "execution_count": 69,
     "metadata": {
      "tags": []
     },
     "output_type": "execute_result"
    },
    {
     "data": {
      "image/png": "[encoded data removed]",
      "text/plain": [
       "<Figure size 432x288 with 1 Axes>"
      ]
     },
     "metadata": {
      "tags": []
     },
     "output_type": "display_data"
    }
   ],
   "source": [
    "proyear = proyears[0:len(proyears)-2]\n",
    "prosalarymea = prosalarymean[0:len(prosalarymean)-2]\n",
    "prosalarymea = [x/1000 for x in prosalarymea]\n",
    "plt.plot(proyear , prosalarymea, '--g', marker = 'o')\n",
    "plt.xlabel(\"Number of years coded professionally\")\n",
    "plt.ylabel(\"Mean annual salary (x1000 in USD)\")\n",
    "plt.xticks(np.arange(0,52,3))"
   ]
  },
  {
   "cell_type": "code",
   "execution_count": null,
   "metadata": {
    "id": "079ed2ca-8e25-4b10-8690-830be009556f",
    "outputId": "1710379d-243e-4464-f9ce-511a32d5fc7d"
   },
   "outputs": [
    {
     "ename": "NameError",
     "evalue": "name 'survey' is not defined",
     "output_type": "error",
     "traceback": [
      "\u001b[1;31m---------------------------------------------------------------------------\u001b[0m",
      "\u001b[1;31mNameError\u001b[0m                                 Traceback (most recent call last)",
      "\u001b[1;32m<ipython-input-55-0e31d3210fa9>\u001b[0m in \u001b[0;36m<module>\u001b[1;34m\u001b[0m\n\u001b[0;32m      1\u001b[0m \u001b[1;31m#Distribution based on how much are the developers willing to learn new language or a framework\u001b[0m\u001b[1;33m\u001b[0m\u001b[1;33m\u001b[0m\u001b[1;33m\u001b[0m\u001b[0m\n\u001b[0;32m      2\u001b[0m \u001b[1;33m\u001b[0m\u001b[0m\n\u001b[1;32m----> 3\u001b[1;33m \u001b[0mnewlearn\u001b[0m \u001b[1;33m=\u001b[0m \u001b[0msurvey\u001b[0m\u001b[1;33m[\u001b[0m\u001b[1;33m[\u001b[0m\u001b[1;34m\"NEWLearn\"\u001b[0m\u001b[1;33m]\u001b[0m\u001b[1;33m]\u001b[0m\u001b[1;33m\u001b[0m\u001b[1;33m\u001b[0m\u001b[0m\n\u001b[0m\u001b[0;32m      4\u001b[0m \u001b[0mnewlearn\u001b[0m\u001b[1;33m.\u001b[0m\u001b[0mdropna\u001b[0m\u001b[1;33m(\u001b[0m\u001b[0minplace\u001b[0m\u001b[1;33m=\u001b[0m\u001b[1;32mTrue\u001b[0m\u001b[1;33m)\u001b[0m\u001b[1;33m\u001b[0m\u001b[1;33m\u001b[0m\u001b[0m\n\u001b[0;32m      5\u001b[0m \u001b[0msns\u001b[0m\u001b[1;33m.\u001b[0m\u001b[0mset_style\u001b[0m\u001b[1;33m(\u001b[0m\u001b[1;34m'darkgrid'\u001b[0m\u001b[1;33m)\u001b[0m\u001b[1;33m\u001b[0m\u001b[1;33m\u001b[0m\u001b[0m\n",
      "\u001b[1;31mNameError\u001b[0m: name 'survey' is not defined"
     ]
    }
   ],
   "source": [
    "#Distribution based on how much are the developers willing to learn new language or a framework\n",
    "\n",
    "newlearn = survey[[\"NEWLearn\"]]\n",
    "newlearn.dropna(inplace=True)\n",
    "sns.set_style('darkgrid')\n",
    "newx = ['Every few months','Once a year', 'Once every few years','Once a decade']\n",
    "newy = newlearn.value_counts().to_list()\n",
    "sns.barplot(newx,newy,palette=\"rocket\", alpha = 0.8)\n",
    "plt.title(\"Frequency of how often a respondent learns a new language or framework\")\n",
    "plt.show()"
   ]
  },
  {
   "cell_type": "code",
   "execution_count": null,
   "metadata": {
    "id": "cf33f61f-d3f9-4743-890a-2ac9c64ff273",
    "outputId": "21ca7bde-26ea-40bd-97ec-1ba26bc21ca9"
   },
   "outputs": [
    {
     "ename": "NameError",
     "evalue": "name 'prosalary' is not defined",
     "output_type": "error",
     "traceback": [
      "\u001b[1;31m---------------------------------------------------------------------------\u001b[0m",
      "\u001b[1;31mNameError\u001b[0m                                 Traceback (most recent call last)",
      "\u001b[1;32m<ipython-input-60-0f8e055dc557>\u001b[0m in \u001b[0;36m<module>\u001b[1;34m\u001b[0m\n\u001b[1;32m----> 1\u001b[1;33m \u001b[0mprosalary\u001b[0m\u001b[1;33m.\u001b[0m\u001b[0minfo\u001b[0m\u001b[1;33m(\u001b[0m\u001b[1;33m)\u001b[0m\u001b[1;33m\u001b[0m\u001b[1;33m\u001b[0m\u001b[0m\n\u001b[0m",
      "\u001b[1;31mNameError\u001b[0m: name 'prosalary' is not defined"
     ]
    }
   ],
   "source": []
  },
  {
   "cell_type": "code",
   "execution_count": null,
   "metadata": {
    "id": "aea95769-c6a7-4904-bcea-bc0f08bdeb34"
   },
   "outputs": [],
   "source": []
  },
  {
   "cell_type": "code",
   "execution_count": null,
   "metadata": {
    "id": "c4572271-d4a1-4aa9-99a5-62827ead40b5"
   },
   "outputs": [],
   "source": []
  },
  {
   "cell_type": "code",
   "execution_count": null,
   "metadata": {
    "id": "95f3d395-824b-4546-b009-eb74eae6ad4b"
   },
   "outputs": [],
   "source": []
  },
  {
   "cell_type": "code",
   "execution_count": null,
   "metadata": {
    "id": "def866bb-aeaf-4f28-bf3a-f102e8476a29"
   },
   "outputs": [],
   "source": []
  },
  {
   "cell_type": "code",
   "execution_count": null,
   "metadata": {
    "id": "b38fa416-7153-4cb8-adae-3981b43e4f2d"
   },
   "outputs": [],
   "source": []
  },
  {
   "cell_type": "code",
   "execution_count": null,
   "metadata": {
    "id": "03df9206-9f5e-4805-9fc5-a7885ed44b8f"
   },
   "outputs": [],
   "source": []
  },
  {
   "cell_type": "code",
   "execution_count": null,
   "metadata": {
    "id": "4e747ac9-4cdf-4267-9457-d106bd521d24"
   },
   "outputs": [],
   "source": []
  },
  {
   "cell_type": "code",
   "execution_count": null,
   "metadata": {
    "id": "355aec89-a915-49a4-b654-d5eb265b1f26"
   },
   "outputs": [],
   "source": []
  },
  {
   "cell_type": "code",
   "execution_count": null,
   "metadata": {
    "id": "70d9c4f3-a4ee-441d-8943-d883f2cfcfa7"
   },
   "outputs": [],
   "source": []
  },
  {
   "cell_type": "code",
   "execution_count": null,
   "metadata": {
    "id": "4d7f4e7c-b1c0-48c5-9f2d-45d5a1a1b2fa"
   },
   "outputs": [],
   "source": []
  },
  {
   "cell_type": "code",
   "execution_count": null,
   "metadata": {
    "id": "e87ce144-1ad7-4c6a-88b1-3be64223355c"
   },
   "outputs": [],
   "source": []
  },
  {
   "cell_type": "code",
   "execution_count": null,
   "metadata": {
    "id": "7e8fa337-ed1e-42e2-a23c-e03abf88728d"
   },
   "outputs": [],
   "source": []
  },
  {
   "cell_type": "code",
   "execution_count": null,
   "metadata": {
    "id": "1288d134-8512-412f-8942-0e4c05ef1e70"
   },
   "outputs": [],
   "source": []
  },
  {
   "cell_type": "code",
   "execution_count": null,
   "metadata": {
    "id": "f4e90d70-e442-483f-a1c7-82cd2ed8a752"
   },
   "outputs": [],
   "source": []
  },
  {
   "cell_type": "code",
   "execution_count": null,
   "metadata": {
    "id": "39a0562d-0f5f-48d7-99b3-9f88ddd6f3c0"
   },
   "outputs": [],
   "source": []
  }
 ],
 "metadata": {
  "colab": {
   "name": "Final_Data_Strata_1.ipynb",
   "provenance": []
  },
  "kernelspec": {
   "display_name": "Python 3",
   "language": "python",
   "name": "python3"
  },
  "language_info": {
   "codemirror_mode": {
    "name": "ipython",
    "version": 3
   },
   "file_extension": ".py",
   "mimetype": "text/x-python",
   "name": "python",
   "nbconvert_exporter": "python",
   "pygments_lexer": "ipython3",
   "version": "3.9.0"
  }
 },
 "nbformat": 4,
 "nbformat_minor": 5
}
